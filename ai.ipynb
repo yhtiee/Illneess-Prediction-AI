{
 "cells": [
  {
   "cell_type": "code",
   "execution_count": 18,
   "metadata": {},
   "outputs": [
    {
     "name": "stdout",
     "output_type": "stream",
     "text": [
      "('malaria', 'Antimalarials, Paracetamol, Fluids')\n"
     ]
    }
   ],
   "source": [
    "from sklearn.naive_bayes import MultinomialNB\n",
    "from sklearn.feature_extraction.text import CountVectorizer\n",
    "from sklearn.pipeline import Pipeline\n",
    "\n",
    "X_train = [\n",
    "    \"headache, fever, fatigue\",\n",
    "    \"cough, chest pain, fatigue\",\n",
    "    \"back pain, headache, nausea\",\n",
    "    \"fever, sore throat, body aches\",\n",
    "    \"headache, fatigue, difficulty concentrating\",\n",
    "    \"nausea, vomiting, stomach pain\",\n",
    "    \"headache, fever, chills\",\n",
    "    \"cough, chest congestion, shortness of breath\",\n",
    "]\n",
    "\n",
    "y_prescription = [\n",
    "    \"Ibuprofen, Paracetamol, Steam inhalation\",\n",
    "    \"Ibuprofen, Antibiotics, Cough Syrup\",\n",
    "    \"Ibuprofen, Antidepressants, Stress management techniques\",\n",
    "    \"Aspirin, Acetaminophen, Bed rest\",\n",
    "    \"Ibuprofen, Anti-anxiety medication, Relaxation techniques\",\n",
    "    \"Anti-diarrheal medication, Electrolyte solution, Rest\",\n",
    "    \"Antimalarials, Paracetamol, Fluids\",\n",
    "    \"Ibuprofen, Antibiotics, Oxygen therapy\"\n",
    "]\n",
    "\n",
    "y_train = [\n",
    "    \"influenza\",\n",
    "    \"bronchitis\",\n",
    "    \"migraine\",\n",
    "    \"influenza\",\n",
    "    \"tension headache\",\n",
    "    \"gastroenteritis\",\n",
    "    \"malaria\",\n",
    "    \"pneumonia\",\n",
    "]\n",
    "\n",
    "symptoms = [\"fever, headache, chest congestion, fatigue, chills,\"]\n",
    "\n",
    "def predict_illness(symptoms, X_train, y_train, y_prescription):\n",
    "    # Create a pipeline that vectorizes the symptoms and trains a Naive Bayes classifier\n",
    "    text_clf = Pipeline([\n",
    "        ('vect', CountVectorizer()),\n",
    "        ('clf', MultinomialNB()),\n",
    "    ])\n",
    "    \n",
    "    # Fit the pipeline to the training data\n",
    "    text_clf.fit(X_train, y_train)\n",
    "    \n",
    "    # Predict the most likely illness for the given symptoms\n",
    "    predicted = text_clf.predict(symptoms)\n",
    "\n",
    "    # find the index of the predicted illness\n",
    "    index = y_train.index(predicted)\n",
    "\n",
    "    return predicted[0], y_prescription[index]\n",
    "\n",
    "print(predict_illness(symptoms, X_train, y_train, y_prescription))"
   ]
  }
 ],
 "metadata": {
  "kernelspec": {
   "display_name": "Python 3",
   "language": "python",
   "name": "python3"
  },
  "language_info": {
   "codemirror_mode": {
    "name": "ipython",
    "version": 3
   },
   "file_extension": ".py",
   "mimetype": "text/x-python",
   "name": "python",
   "nbconvert_exporter": "python",
   "pygments_lexer": "ipython3",
   "version": "3.10.7 (tags/v3.10.7:6cc6b13, Sep  5 2022, 14:08:36) [MSC v.1933 64 bit (AMD64)]"
  },
  "orig_nbformat": 4,
  "vscode": {
   "interpreter": {
    "hash": "ec39b2ded0b3042f39abdae71d72b114ce2435f72afd9c666e52e21426fbdcef"
   }
  }
 },
 "nbformat": 4,
 "nbformat_minor": 2
}
